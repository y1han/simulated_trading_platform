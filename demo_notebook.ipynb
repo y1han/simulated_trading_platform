{
 "cells": [
  {
   "cell_type": "code",
   "execution_count": 1,
   "metadata": {},
   "outputs": [],
   "source": [
    "import market as mkt\n",
    "from datetime import datetime, timedelta\n",
    "sim = mkt.Simulator(file_path=\"data/688001.SH/20220812/逐笔委托.csv\")"
   ]
  },
  {
   "cell_type": "code",
   "execution_count": 2,
   "metadata": {},
   "outputs": [
    {
     "name": "stdout",
     "output_type": "stream",
     "text": [
      "2022-08-12 09:25:00\n",
      "    bid_v  bid_p  ask_p  ask_v\n",
      "0     218  37.44  37.45    300\n",
      "1     260  37.40  37.46    286\n",
      "2     200  37.30  37.50  13888\n",
      "3     200  37.18  37.54   1200\n",
      "4     600  37.10  37.82   2000\n",
      "5    3000  37.08  37.86   2000\n",
      "6     200  36.93  37.90    200\n",
      "7     200  36.86  37.93    200\n",
      "8    2000  36.80  37.99   1000\n",
      "9     200  36.76  38.00    444\n",
      "10    200  36.71  38.08    200\n"
     ]
    }
   ],
   "source": [
    "sim.reset()\n",
    "time = datetime(year=2022, month=8, day=12)+ timedelta(hours=9, minutes=15, seconds=0)\n",
    "end_time = datetime(year=2022, month=8, day=12)+ timedelta(hours=9, minutes=25, seconds=0)\n",
    "while time < end_time:\n",
    "    time = sim.next_step()\n",
    "print(sim.order_book)"
   ]
  },
  {
   "cell_type": "code",
   "execution_count": null,
   "metadata": {},
   "outputs": [],
   "source": []
  }
 ],
 "metadata": {
  "kernelspec": {
   "display_name": "Python 3 (ipykernel)",
   "language": "python",
   "name": "python3"
  },
  "language_info": {
   "codemirror_mode": {
    "name": "ipython",
    "version": 3
   },
   "file_extension": ".py",
   "mimetype": "text/x-python",
   "name": "python",
   "nbconvert_exporter": "python",
   "pygments_lexer": "ipython3",
   "version": "3.10.6"
  }
 },
 "nbformat": 4,
 "nbformat_minor": 1
}
