{
 "cells": [
  {
   "cell_type": "code",
   "execution_count": 1,
   "metadata": {},
   "outputs": [],
   "source": [
    "import market as mkt\n",
    "sim = mkt.Simulator(file_path=\"data/688001.SH/20220812/逐笔委托.csv\")"
   ]
  },
  {
   "cell_type": "code",
   "execution_count": 27,
   "metadata": {},
   "outputs": [
    {
     "name": "stdout",
     "output_type": "stream",
     "text": [
      "2022-08-12 09:16:15\n",
      "    bid_v  bid_p  ask_p  ask_v\n",
      "0     400  37.54  37.99    500\n",
      "1     400  37.52  38.00    444\n",
      "2     200  37.30  38.08    200\n",
      "3     200  37.18  38.10    950\n",
      "4    3000  37.08  38.26    600\n",
      "5     200  36.76  38.33    200\n",
      "6     200  36.70  38.35    800\n",
      "7    1575  36.61  38.40   2000\n",
      "8     500  36.56  38.45    100\n",
      "9    2000  36.50  38.48    200\n",
      "10    371  36.42  38.50   1700\n"
     ]
    }
   ],
   "source": [
    "sim.next_step()"
   ]
  },
  {
   "cell_type": "code",
   "execution_count": null,
   "metadata": {},
   "outputs": [],
   "source": []
  }
 ],
 "metadata": {
  "kernelspec": {
   "display_name": "Python 3 (ipykernel)",
   "language": "python",
   "name": "python3"
  },
  "language_info": {
   "codemirror_mode": {
    "name": "ipython",
    "version": 3
   },
   "file_extension": ".py",
   "mimetype": "text/x-python",
   "name": "python",
   "nbconvert_exporter": "python",
   "pygments_lexer": "ipython3",
   "version": "3.10.6"
  }
 },
 "nbformat": 4,
 "nbformat_minor": 1
}
